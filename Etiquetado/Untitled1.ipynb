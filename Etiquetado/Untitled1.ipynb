{
 "cells": [
  {
   "cell_type": "code",
   "execution_count": 1,
   "id": "7bcc6569-6824-4a69-8eda-2e07094bbcac",
   "metadata": {},
   "outputs": [],
   "source": [
    "import pandas as pd\n",
    "\n",
    "dt = pd.read_csv('doc.csv',encoding='utf-8',sep=',')\n"
   ]
  },
  {
   "cell_type": "code",
   "execution_count": 2,
   "id": "193059a5-a00f-4a07-b0f6-8955ec3a99e6",
   "metadata": {},
   "outputs": [
    {
     "data": {
      "text/html": [
       "<div>\n",
       "<style scoped>\n",
       "    .dataframe tbody tr th:only-of-type {\n",
       "        vertical-align: middle;\n",
       "    }\n",
       "\n",
       "    .dataframe tbody tr th {\n",
       "        vertical-align: top;\n",
       "    }\n",
       "\n",
       "    .dataframe thead th {\n",
       "        text-align: right;\n",
       "    }\n",
       "</style>\n",
       "<table border=\"1\" class=\"dataframe\">\n",
       "  <thead>\n",
       "    <tr style=\"text-align: right;\">\n",
       "      <th></th>\n",
       "      <th>MOTIVO_NOVEDAD</th>\n",
       "      <th>ETIQUETA;;;;;;;;;;;;;</th>\n",
       "    </tr>\n",
       "  </thead>\n",
       "  <tbody>\n",
       "    <tr>\n",
       "      <th>0</th>\n",
       "      <td>cambio de institución educativa</td>\n",
       "      <td>cambio de institucion</td>\n",
       "    </tr>\n",
       "    <tr>\n",
       "      <th>1</th>\n",
       "      <td>por error se acepto y era rechazar la solicitu...</td>\n",
       "      <td>problemas administrativos</td>\n",
       "    </tr>\n",
       "    <tr>\n",
       "      <th>2</th>\n",
       "      <td>según la solicitud no 7-2022-19 se realiza ret...</td>\n",
       "      <td>causas desconocidas</td>\n",
       "    </tr>\n",
       "    <tr>\n",
       "      <th>3</th>\n",
       "      <td>no tuve mucho agrado al programa y por motivos...</td>\n",
       "      <td>falta de interes en el programa</td>\n",
       "    </tr>\n",
       "    <tr>\n",
       "      <th>4</th>\n",
       "      <td>motivos personales</td>\n",
       "      <td>2;;;;;;;;;;;;;</td>\n",
       "    </tr>\n",
       "  </tbody>\n",
       "</table>\n",
       "</div>"
      ],
      "text/plain": [
       "                                      MOTIVO_NOVEDAD  \\\n",
       "0                    cambio de institución educativa   \n",
       "1  por error se acepto y era rechazar la solicitu...   \n",
       "2  según la solicitud no 7-2022-19 se realiza ret...   \n",
       "3  no tuve mucho agrado al programa y por motivos...   \n",
       "4                                motivos personales    \n",
       "\n",
       "             ETIQUETA;;;;;;;;;;;;;  \n",
       "0            cambio de institucion  \n",
       "1       problemas administrativos   \n",
       "2              causas desconocidas  \n",
       "3  falta de interes en el programa  \n",
       "4                   2;;;;;;;;;;;;;  "
      ]
     },
     "execution_count": 2,
     "metadata": {},
     "output_type": "execute_result"
    }
   ],
   "source": [
    "dt['ETIQUETA;;;;;;;;;;;;;'] = dt['ETIQUETA;;;;;;;;;;;;;'].str.replace('11;;;;;;;;;;;;;','carga academica excesiva', regex=False)\n",
    "dt['ETIQUETA;;;;;;;;;;;;;'] = dt['ETIQUETA;;;;;;;;;;;;;'].str.replace('13;;;;;;;;;;;;;','falta de interes en el programa', regex=False)\n",
    "dt['ETIQUETA;;;;;;;;;;;;;'] = dt['ETIQUETA;;;;;;;;;;;;;'].str.replace('14;;;;;;;;;;;;;','falta de apoyo academico', regex=False)\n",
    "dt['ETIQUETA;;;;;;;;;;;;;'] = dt['ETIQUETA;;;;;;;;;;;;;'].str.replace('15;;;;;;;;;;;;;','horarios incompatibles', regex=False)\n",
    "dt['ETIQUETA;;;;;;;;;;;;;'] = dt['ETIQUETA;;;;;;;;;;;;;'].str.replace('16;;;;;;;;;;;;;','desconocimiento del programa', regex=False)\n",
    "dt['ETIQUETA;;;;;;;;;;;;;'] = dt['ETIQUETA;;;;;;;;;;;;;'].str.replace('21;;;;;;;;;;;;;','problemas de salud publica', regex=False)\n",
    "dt['ETIQUETA;;;;;;;;;;;;;'] = dt['ETIQUETA;;;;;;;;;;;;;'].str.replace('22;;;;;;;;;;;;;','problemas de salud mental', regex=False)\n",
    "dt['ETIQUETA;;;;;;;;;;;;;'] = dt['ETIQUETA;;;;;;;;;;;;;'].str.replace('23;;;;;;;;;;;;;','problemas familiares', regex=False)\n",
    "dt['ETIQUETA;;;;;;;;;;;;;'] = dt['ETIQUETA;;;;;;;;;;;;;'].str.replace('24;;;;;;;;;;;;;','problemas economicos', regex=False)\n",
    "dt['ETIQUETA;;;;;;;;;;;;;'] = dt['ETIQUETA;;;;;;;;;;;;;'].str.replace('25;;;;;;;;;;;;;','carga familiar', regex=False)\n",
    "dt['ETIQUETA;;;;;;;;;;;;;'] = dt['ETIQUETA;;;;;;;;;;;;;'].str.replace('31;;;;;;;;;;;;;','calidad de enseñanza', regex=False)\n",
    "dt['ETIQUETA;;;;;;;;;;;;;'] = dt['ETIQUETA;;;;;;;;;;;;;'].str.replace('32;;;;;;;;;;;;;','infraestructura inadecuada', regex=False)\n",
    "dt['ETIQUETA;;;;;;;;;;;;;'] = dt['ETIQUETA;;;;;;;;;;;;;'].str.replace('33;;;;;;;;;;;;;','problemas administrativos ', regex=False)\n",
    "dt['ETIQUETA;;;;;;;;;;;;;'] = dt['ETIQUETA;;;;;;;;;;;;;'].str.replace('34;;;;;;;;;;;;;','clima organizacional negativo', regex=False)\n",
    "dt['ETIQUETA;;;;;;;;;;;;;'] = dt['ETIQUETA;;;;;;;;;;;;;'].str.replace('35;;;;;;;;;;;;;','falta de recursos para la comunicacion', regex=False)\n",
    "dt['ETIQUETA;;;;;;;;;;;;;'] = dt['ETIQUETA;;;;;;;;;;;;;'].str.replace('36;;;;;;;;;;;;;','aplazamiento del programa', regex=False)\n",
    "dt['ETIQUETA;;;;;;;;;;;;;'] = dt['ETIQUETA;;;;;;;;;;;;;'].str.replace('41;;;;;;;;;;;;;','encontro un trabajo', regex=False)\n",
    "dt['ETIQUETA;;;;;;;;;;;;;'] = dt['ETIQUETA;;;;;;;;;;;;;'].str.replace('42;;;;;;;;;;;;;','mejor oferta laboral', regex=False)\n",
    "dt['ETIQUETA;;;;;;;;;;;;;'] = dt['ETIQUETA;;;;;;;;;;;;;'].str.replace('43;;;;;;;;;;;;;','perdida laboral', regex=False)\n",
    "dt['ETIQUETA;;;;;;;;;;;;;'] = dt['ETIQUETA;;;;;;;;;;;;;'].str.replace('44;;;;;;;;;;;;;','cruce academico laboral', regex=False)\n",
    "dt['ETIQUETA;;;;;;;;;;;;;'] = dt['ETIQUETA;;;;;;;;;;;;;'].str.replace('51;;;;;;;;;;;;;','Mudanza', regex=False)\n",
    "dt['ETIQUETA;;;;;;;;;;;;;'] = dt['ETIQUETA;;;;;;;;;;;;;'].str.replace('52;;;;;;;;;;;;;','cambio de institucion', regex=False)\n",
    "dt['ETIQUETA;;;;;;;;;;;;;'] = dt['ETIQUETA;;;;;;;;;;;;;'].str.replace('61;;;;;;;;;;;;;','incorporacion a las fuerzas armadas', regex=False)\n",
    "dt['ETIQUETA;;;;;;;;;;;;;'] = dt['ETIQUETA;;;;;;;;;;;;;'].str.replace('62;;;;;;;;;;;;;','alteracion del orden publico', regex=False)\n",
    "dt['ETIQUETA;;;;;;;;;;;;;'] = dt['ETIQUETA;;;;;;;;;;;;;'].str.replace('63;;;;;;;;;;;;;','dificultad transporte', regex=False)\n",
    "dt['ETIQUETA;;;;;;;;;;;;;'] = dt['ETIQUETA;;;;;;;;;;;;;'].str.replace('64;;;;;;;;;;;;;','causas desconocidas', regex=False)\n",
    "\n",
    "\n",
    "dt.head()"
   ]
  },
  {
   "cell_type": "code",
   "execution_count": 3,
   "id": "9a339b0e-3952-4430-8fb4-54d4d3f014d4",
   "metadata": {},
   "outputs": [],
   "source": [
    "dt['ETIQUETA;;;;;;;;;;;;;'] = dt['ETIQUETA;;;;;;;;;;;;;'].str.replace('12;;;;;;;;;;;;;','dificultad en las materias', regex=False)\n",
    "dt['ETIQUETA;;;;;;;;;;;;;'] = dt['ETIQUETA;;;;;;;;;;;;;'].str.replace('11;;;;;;;;;;;;;','carga academica excesiva', regex=False)\n",
    "dt['ETIQUETA;;;;;;;;;;;;;'] = dt['ETIQUETA;;;;;;;;;;;;;'].str.replace('6;;;;;;;;;;;;;','causas desconocidas', regex=False)\n",
    "dt['ETIQUETA;;;;;;;;;;;;;'] = dt['ETIQUETA;;;;;;;;;;;;;'].str.replace('4;;;;;;;;;;;;;','Laboral sin causa', regex=False)\n"
   ]
  },
  {
   "cell_type": "code",
   "execution_count": 4,
   "id": "78cce7dc-09a3-4f24-88e7-344717ee6910",
   "metadata": {},
   "outputs": [
    {
     "name": "stdout",
     "output_type": "stream",
     "text": [
      "ETIQUETA;;;;;;;;;;;;;\n",
      "personal sin causa                        59\n",
      "cruce academico laboral                   51\n",
      "horarios incompatibles                    48\n",
      "Mudanza                                   39\n",
      "problemas economicos                      39\n",
      "causas desconocidas                       34\n",
      "problemas de salud publica                34\n",
      "falta de interes en el programa           25\n",
      "cambio de institucion                     19\n",
      "problemas familiares                      18\n",
      "carga familiar                            18\n",
      "encontro un trabajo                       16\n",
      "dificultad transporte                     13\n",
      "falta de recursos para la comunicacion    13\n",
      "Laboral sin causa                         13\n",
      "desconocimiento del programa              10\n",
      "problemas administrativos                  9\n",
      "problemas de salud mental                  8\n",
      "dificultad en las materias                 8\n",
      "academico sin causa                        6\n",
      "calidad de enseñanza                       6\n",
      "incorporacion a las fuerzas armadas        5\n",
      "alteracion del orden publico               4\n",
      "clima organizacional negativo              3\n",
      "perdida laboral                            3\n",
      "carga academica excesiva                   2\n",
      "falta de apoyo academico                   2\n",
      "infraestructura inadecuada                 2\n",
      "aplazamiento del programa                  2\n",
      "cambio de lugar sin causa                  1\n",
      "?;;;;;;;;;;;;;                             1\n",
      "mejor oferta laboral                       1\n",
      "Name: count, dtype: int64\n",
      "--------------------\n"
     ]
    }
   ],
   "source": [
    "dt['ETIQUETA;;;;;;;;;;;;;'] = dt['ETIQUETA;;;;;;;;;;;;;'].str.replace('10;;;;;;;;;;;;;','academico sin causa', regex=False)\n",
    "dt['ETIQUETA;;;;;;;;;;;;;'] = dt['ETIQUETA;;;;;;;;;;;;;'].str.replace('1;;;;;;;;;;;;;','academico sin causa', regex=False)\n",
    "dt['ETIQUETA;;;;;;;;;;;;;'] = dt['ETIQUETA;;;;;;;;;;;;;'].str.replace('20;;;;;;;;;;;;;','personal sin causa', regex=False)\n",
    "dt['ETIQUETA;;;;;;;;;;;;;'] = dt['ETIQUETA;;;;;;;;;;;;;'].str.replace('2;;;;;;;;;;;;;','personal sin causa', regex=False)\n",
    "dt['ETIQUETA;;;;;;;;;;;;;'] = dt['ETIQUETA;;;;;;;;;;;;;'].str.replace('50;;;;;;;;;;;;;','cambio de lugar sin causa', regex=False)\n",
    "dt['ETIQUETA;;;;;;;;;;;;;'] = dt['ETIQUETA;;;;;;;;;;;;;'].str.replace('40;;;;;;;;;;;;;','Laboral sin causa', regex=False)\n",
    "\n",
    "columnas = ['ETIQUETA;;;;;;;;;;;;;']\n",
    "for col in columnas:\n",
    "    print(dt[col].value_counts())\n",
    "    print('-'*20)"
   ]
  },
  {
   "cell_type": "code",
   "execution_count": 5,
   "id": "e2121ad7-e50a-4f3d-a94b-20170b3b2133",
   "metadata": {},
   "outputs": [
    {
     "name": "stdout",
     "output_type": "stream",
     "text": [
      "ETIQUETA;;;;;;;;;;;;;\n",
      "personal sin causa                        59\n",
      "cruce academico laboral                   51\n",
      "horarios incompatibles                    48\n",
      "Mudanza                                   39\n",
      "problemas economicos                      39\n",
      "causas desconocidas                       34\n",
      "problemas de salud publica                34\n",
      "falta de interes en el programa           25\n",
      "cambio de institucion                     19\n",
      "problemas familiares                      18\n",
      "carga familiar                            18\n",
      "encontro un trabajo                       16\n",
      "dificultad transporte                     13\n",
      "falta de recursos para la comunicacion    13\n",
      "Laboral sin causa                         13\n",
      "desconocimiento del programa              10\n",
      "problemas administrativos                  9\n",
      "problemas de salud mental                  8\n",
      "dificultad en las materias                 8\n",
      "academico sin causa                        6\n",
      "calidad de enseñanza                       6\n",
      "incorporacion a las fuerzas armadas        5\n",
      "alteracion del orden publico               4\n",
      "clima organizacional negativo              3\n",
      "perdida laboral                            3\n",
      "carga academica excesiva                   2\n",
      "falta de apoyo academico                   2\n",
      "infraestructura inadecuada                 2\n",
      "aplazamiento del programa                  2\n",
      "cambio de lugar sin causa                  1\n",
      "?;;;;;;;;;;;;;                             1\n",
      "mejor oferta laboral                       1\n",
      "Name: count, dtype: int64\n",
      "--------------------\n"
     ]
    }
   ],
   "source": [
    "dt[dt['ETIQUETA;;;;;;;;;;;;;'] != '?;;;;;;;;;;;;;']\n",
    "\n",
    "columnas = ['ETIQUETA;;;;;;;;;;;;;']\n",
    "for col in columnas:\n",
    "    print(dt[col].value_counts())\n",
    "    print('-'*20)"
   ]
  },
  {
   "cell_type": "code",
   "execution_count": 6,
   "id": "3abd76cc-c828-4375-8ede-31c7a08d70db",
   "metadata": {},
   "outputs": [],
   "source": [
    "dt.to_csv('datosEtiquetados.csv', mode='w',encoding='utf-8',index=False)"
   ]
  },
  {
   "cell_type": "code",
   "execution_count": null,
   "id": "44ade7fb-1a3b-4d39-b59d-263d2ea91f35",
   "metadata": {},
   "outputs": [],
   "source": []
  }
 ],
 "metadata": {
  "kernelspec": {
   "display_name": "Python 3 (ipykernel)",
   "language": "python",
   "name": "python3"
  },
  "language_info": {
   "codemirror_mode": {
    "name": "ipython",
    "version": 3
   },
   "file_extension": ".py",
   "mimetype": "text/x-python",
   "name": "python",
   "nbconvert_exporter": "python",
   "pygments_lexer": "ipython3",
   "version": "3.10.15"
  }
 },
 "nbformat": 4,
 "nbformat_minor": 5
}
